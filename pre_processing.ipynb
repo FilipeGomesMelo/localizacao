{
 "cells": [
  {
   "cell_type": "code",
   "execution_count": 29,
   "metadata": {},
   "outputs": [],
   "source": [
    "import pandas as pd"
   ]
  },
  {
   "cell_type": "markdown",
   "metadata": {},
   "source": [
    "Import dos datasets"
   ]
  },
  {
   "cell_type": "code",
   "execution_count": 30,
   "metadata": {},
   "outputs": [],
   "source": [
    "df_bts = pd.read_csv('input_data/01_raw_files/Bts.csv')\n",
    "df_test_alunos = pd.read_csv('input_data/01_raw_files/meds_test_alunos.csv')\n",
    "df_train_alunos = pd.read_csv('input_data/01_raw_files/meds_train_alunos.csv')"
   ]
  },
  {
   "cell_type": "markdown",
   "metadata": {},
   "source": [
    "Tratamento inicial dos dados"
   ]
  },
  {
   "cell_type": "code",
   "execution_count": 31,
   "metadata": {},
   "outputs": [],
   "source": [
    "numeric_columns = [\n",
    "    'rssi_1_1', 'rssi_1_2', 'rssi_1_3', 'rssi_2_1', 'rssi_2_2',\n",
    "    'rssi_2_3', 'rssi_3_1', 'rssi_3_2', 'rssi_3_3', 'lat', 'lon',\n",
    "    'delay_1',  'delay_2',  'delay_3'\n",
    "]\n",
    "\n",
    "for col in numeric_columns:\n",
    "    df_train_alunos[col] = pd.to_numeric(df_train_alunos[col], errors='coerce')\n",
    "    if col not in ['lat', 'lon']:\n",
    "        df_test_alunos[col] = pd.to_numeric(df_test_alunos[col], errors='coerce')"
   ]
  },
  {
   "cell_type": "code",
   "execution_count": 32,
   "metadata": {},
   "outputs": [
    {
     "data": {
      "text/html": [
       "<div>\n",
       "<style scoped>\n",
       "    .dataframe tbody tr th:only-of-type {\n",
       "        vertical-align: middle;\n",
       "    }\n",
       "\n",
       "    .dataframe tbody tr th {\n",
       "        vertical-align: top;\n",
       "    }\n",
       "\n",
       "    .dataframe thead th {\n",
       "        text-align: right;\n",
       "    }\n",
       "</style>\n",
       "<table border=\"1\" class=\"dataframe\">\n",
       "  <thead>\n",
       "    <tr style=\"text-align: right;\">\n",
       "      <th></th>\n",
       "      <th>ponto_id</th>\n",
       "      <th>rssi_1_1</th>\n",
       "      <th>rssi_1_2</th>\n",
       "      <th>rssi_1_3</th>\n",
       "      <th>rssi_2_1</th>\n",
       "      <th>rssi_2_2</th>\n",
       "      <th>rssi_2_3</th>\n",
       "      <th>rssi_3_1</th>\n",
       "      <th>rssi_3_2</th>\n",
       "      <th>rssi_3_3</th>\n",
       "      <th>delay_1</th>\n",
       "      <th>delay_2</th>\n",
       "      <th>delay_3</th>\n",
       "      <th>lat</th>\n",
       "      <th>lon</th>\n",
       "      <th>indoor</th>\n",
       "    </tr>\n",
       "  </thead>\n",
       "  <tbody>\n",
       "  </tbody>\n",
       "</table>\n",
       "</div>"
      ],
      "text/plain": [
       "Empty DataFrame\n",
       "Columns: [ponto_id, rssi_1_1, rssi_1_2, rssi_1_3, rssi_2_1, rssi_2_2, rssi_2_3, rssi_3_1, rssi_3_2, rssi_3_3, delay_1, delay_2, delay_3, lat, lon, indoor]\n",
       "Index: []"
      ]
     },
     "execution_count": 32,
     "metadata": {},
     "output_type": "execute_result"
    }
   ],
   "source": [
    "df_train_alunos[df_train_alunos.duplicated()]"
   ]
  },
  {
   "cell_type": "code",
   "execution_count": 33,
   "metadata": {},
   "outputs": [
    {
     "data": {
      "text/html": [
       "<div>\n",
       "<style scoped>\n",
       "    .dataframe tbody tr th:only-of-type {\n",
       "        vertical-align: middle;\n",
       "    }\n",
       "\n",
       "    .dataframe tbody tr th {\n",
       "        vertical-align: top;\n",
       "    }\n",
       "\n",
       "    .dataframe thead th {\n",
       "        text-align: right;\n",
       "    }\n",
       "</style>\n",
       "<table border=\"1\" class=\"dataframe\">\n",
       "  <thead>\n",
       "    <tr style=\"text-align: right;\">\n",
       "      <th></th>\n",
       "      <th>ponto_id</th>\n",
       "      <th>rssi_1_1</th>\n",
       "      <th>rssi_1_2</th>\n",
       "      <th>rssi_1_3</th>\n",
       "      <th>rssi_2_1</th>\n",
       "      <th>rssi_2_2</th>\n",
       "      <th>rssi_2_3</th>\n",
       "      <th>rssi_3_1</th>\n",
       "      <th>rssi_3_2</th>\n",
       "      <th>rssi_3_3</th>\n",
       "      <th>delay_1</th>\n",
       "      <th>delay_2</th>\n",
       "      <th>delay_3</th>\n",
       "    </tr>\n",
       "  </thead>\n",
       "  <tbody>\n",
       "  </tbody>\n",
       "</table>\n",
       "</div>"
      ],
      "text/plain": [
       "Empty DataFrame\n",
       "Columns: [ponto_id, rssi_1_1, rssi_1_2, rssi_1_3, rssi_2_1, rssi_2_2, rssi_2_3, rssi_3_1, rssi_3_2, rssi_3_3, delay_1, delay_2, delay_3]\n",
       "Index: []"
      ]
     },
     "execution_count": 33,
     "metadata": {},
     "output_type": "execute_result"
    }
   ],
   "source": [
    "df_test_alunos[df_test_alunos.duplicated()]"
   ]
  },
  {
   "cell_type": "code",
   "execution_count": 34,
   "metadata": {},
   "outputs": [
    {
     "data": {
      "text/plain": [
       "ponto_id    0\n",
       "rssi_1_1    0\n",
       "rssi_1_2    0\n",
       "rssi_1_3    0\n",
       "rssi_2_1    0\n",
       "rssi_2_2    0\n",
       "rssi_2_3    0\n",
       "rssi_3_1    0\n",
       "rssi_3_2    0\n",
       "rssi_3_3    0\n",
       "delay_1     0\n",
       "delay_2     0\n",
       "delay_3     0\n",
       "lat         0\n",
       "lon         0\n",
       "indoor      0\n",
       "dtype: int64"
      ]
     },
     "execution_count": 34,
     "metadata": {},
     "output_type": "execute_result"
    }
   ],
   "source": [
    "df_train_alunos.isnull().sum()"
   ]
  },
  {
   "cell_type": "code",
   "execution_count": 35,
   "metadata": {},
   "outputs": [
    {
     "data": {
      "text/plain": [
       "ponto_id    0\n",
       "rssi_1_1    0\n",
       "rssi_1_2    0\n",
       "rssi_1_3    0\n",
       "rssi_2_1    0\n",
       "rssi_2_2    0\n",
       "rssi_2_3    0\n",
       "rssi_3_1    0\n",
       "rssi_3_2    0\n",
       "rssi_3_3    0\n",
       "delay_1     0\n",
       "delay_2     0\n",
       "delay_3     0\n",
       "dtype: int64"
      ]
     },
     "execution_count": 35,
     "metadata": {},
     "output_type": "execute_result"
    }
   ],
   "source": [
    "df_test_alunos.isnull().sum()"
   ]
  },
  {
   "cell_type": "code",
   "execution_count": 36,
   "metadata": {},
   "outputs": [
    {
     "name": "stdout",
     "output_type": "stream",
     "text": [
      "<class 'pandas.core.frame.DataFrame'>\n",
      "RangeIndex: 6775 entries, 0 to 6774\n",
      "Data columns (total 16 columns):\n",
      " #   Column    Non-Null Count  Dtype  \n",
      "---  ------    --------------  -----  \n",
      " 0   ponto_id  6775 non-null   int64  \n",
      " 1   rssi_1_1  6775 non-null   float64\n",
      " 2   rssi_1_2  6775 non-null   float64\n",
      " 3   rssi_1_3  6775 non-null   float64\n",
      " 4   rssi_2_1  6775 non-null   float64\n",
      " 5   rssi_2_2  6775 non-null   float64\n",
      " 6   rssi_2_3  6775 non-null   float64\n",
      " 7   rssi_3_1  6775 non-null   float64\n",
      " 8   rssi_3_2  6775 non-null   float64\n",
      " 9   rssi_3_3  6775 non-null   float64\n",
      " 10  delay_1   6775 non-null   float64\n",
      " 11  delay_2   6775 non-null   float64\n",
      " 12  delay_3   6775 non-null   float64\n",
      " 13  lat       6775 non-null   float64\n",
      " 14  lon       6775 non-null   float64\n",
      " 15  indoor    6775 non-null   bool   \n",
      "dtypes: bool(1), float64(14), int64(1)\n",
      "memory usage: 800.7 KB\n"
     ]
    }
   ],
   "source": [
    "df_train_alunos.info()"
   ]
  },
  {
   "cell_type": "code",
   "execution_count": 37,
   "metadata": {},
   "outputs": [
    {
     "name": "stdout",
     "output_type": "stream",
     "text": [
      "<class 'pandas.core.frame.DataFrame'>\n",
      "RangeIndex: 2904 entries, 0 to 2903\n",
      "Data columns (total 13 columns):\n",
      " #   Column    Non-Null Count  Dtype  \n",
      "---  ------    --------------  -----  \n",
      " 0   ponto_id  2904 non-null   int64  \n",
      " 1   rssi_1_1  2904 non-null   float64\n",
      " 2   rssi_1_2  2904 non-null   float64\n",
      " 3   rssi_1_3  2904 non-null   float64\n",
      " 4   rssi_2_1  2904 non-null   float64\n",
      " 5   rssi_2_2  2904 non-null   float64\n",
      " 6   rssi_2_3  2904 non-null   float64\n",
      " 7   rssi_3_1  2904 non-null   float64\n",
      " 8   rssi_3_2  2904 non-null   float64\n",
      " 9   rssi_3_3  2904 non-null   float64\n",
      " 10  delay_1   2904 non-null   float64\n",
      " 11  delay_2   2904 non-null   float64\n",
      " 12  delay_3   2904 non-null   float64\n",
      "dtypes: float64(12), int64(1)\n",
      "memory usage: 295.1 KB\n"
     ]
    }
   ],
   "source": [
    "df_test_alunos.info()"
   ]
  },
  {
   "cell_type": "code",
   "execution_count": 38,
   "metadata": {},
   "outputs": [
    {
     "name": "stdout",
     "output_type": "stream",
     "text": [
      "Para o Grupo 1\n",
      "0/6775 linhas estão com valores fora do limite (diferença máxima tolerada = 40).\n",
      "\n",
      "Para o Grupo 2\n",
      "9/6775 linhas estão com valores fora do limite (diferença máxima tolerada = 40).\n",
      "\n",
      "Para o Grupo 3\n",
      "3/6775 linhas estão com valores fora do limite (diferença máxima tolerada = 40).\n",
      "\n"
     ]
    }
   ],
   "source": [
    "group_mapping = {\n",
    "    'Grupo 1': ['rssi_1_1', 'rssi_1_2', 'rssi_1_3'],\n",
    "    'Grupo 2': ['rssi_2_1', 'rssi_2_2', 'rssi_2_3'],\n",
    "    'Grupo 3': ['rssi_3_1', 'rssi_3_2', 'rssi_3_3']\n",
    "}\n",
    "\n",
    "limit = 40\n",
    "\n",
    "to_be_removed = list()\n",
    "\n",
    "for group_name, group_columns in group_mapping.items():\n",
    "    df_group = df_train_alunos[group_columns].copy()\n",
    "\n",
    "    df_group['max_diff'] = df_group.max(axis=1) - df_group.min(axis=1)\n",
    "\n",
    "    indexes_above_limit = df_group[df_group['max_diff'] > limit].index\n",
    "    to_be_removed.extend(indexes_above_limit)\n",
    "\n",
    "    print(f'Para o {group_name}')\n",
    "    print(f'{len(indexes_above_limit)}/{len(df_group)} linhas estão com valores fora do limite (diferença máxima tolerada = {limit}).\\n')\n",
    "\n",
    "df_train_alunos = df_train_alunos.drop(to_be_removed)"
   ]
  },
  {
   "cell_type": "code",
   "execution_count": 39,
   "metadata": {},
   "outputs": [
    {
     "ename": "",
     "evalue": "",
     "output_type": "error",
     "traceback": [
      "\u001b[1;31mThe Kernel crashed while executing code in the current cell or a previous cell. \n",
      "\u001b[1;31mPlease review the code in the cell(s) to identify a possible cause of the failure. \n",
      "\u001b[1;31mClick <a href='https://aka.ms/vscodeJupyterKernelCrash'>here</a> for more info. \n",
      "\u001b[1;31mView Jupyter <a href='command:jupyter.viewOutput'>log</a> for further details."
     ]
    }
   ],
   "source": [
    "df_bts.to_csv('input_data/02_pre_processed_files/bts.csv')\n",
    "df_train_alunos.to_csv('input_data/02_pre_processed_files/meds_train_alunos.csv')\n",
    "df_test_alunos.to_csv('input_data/02_pre_processed_files/meds_test_alunos.csv')"
   ]
  }
 ],
 "metadata": {
  "kernelspec": {
   "display_name": "Python 3",
   "language": "python",
   "name": "python3"
  },
  "language_info": {
   "codemirror_mode": {
    "name": "ipython",
    "version": 3
   },
   "file_extension": ".py",
   "mimetype": "text/x-python",
   "name": "python",
   "nbconvert_exporter": "python",
   "pygments_lexer": "ipython3",
   "version": "3.11.4"
  }
 },
 "nbformat": 4,
 "nbformat_minor": 2
}
